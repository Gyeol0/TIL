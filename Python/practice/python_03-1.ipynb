{
 "cells": [
  {
   "cell_type": "markdown",
   "id": "twenty-shooting",
   "metadata": {},
   "source": [
    "## 1. List의 합 구하기\n",
    "정수로만 이루어진 list를 전달 받아 해당 list의 모든 요소들의 합을 반환하는 list_sum\n",
    "함수를 built-in 함수인 sum() 함수를 사용하지 않고 작성하시오."
   ]
  },
  {
   "cell_type": "code",
   "execution_count": 1,
   "id": "assumed-territory",
   "metadata": {},
   "outputs": [
    {
     "name": "stdout",
     "output_type": "stream",
     "text": [
      "15\n"
     ]
    }
   ],
   "source": [
    "def list_sum(lst):\n",
    "    result = 0\n",
    "    for i in lst:\n",
    "        result += i\n",
    "    return result\n",
    "\n",
    "print(list_sum([1,2,3,4,5]))"
   ]
  },
  {
   "cell_type": "markdown",
   "id": "collaborative-villa",
   "metadata": {},
   "source": [
    "## 2. Dictionary로 이루어진 List의 합 구하기\n",
    "Dictionary로 이루어진 list를 전달 받아 모든 dictionary의 'age' key에 해당하는 value\n",
    "들의 합을 반환하는 dict_list_sum 함수를 built-in 함수인 sum() 함수를 사용하지 않고\n",
    "작성하시오."
   ]
  },
  {
   "cell_type": "code",
   "execution_count": 5,
   "id": "speaking-gospel",
   "metadata": {},
   "outputs": [
    {
     "name": "stdout",
     "output_type": "stream",
     "text": [
      "16\n"
     ]
    }
   ],
   "source": [
    "def dict_list_sum(dict_list):\n",
    "    result = 0\n",
    "    for i in dict_list:\n",
    "        result += i.get('age')\n",
    "    return result\n",
    "\n",
    "print(dict_list_sum([{'name': 'kim', 'age': 12},\n",
    "                    {'name': 'lee', 'age': 4}]))"
   ]
  },
  {
   "cell_type": "markdown",
   "id": "capable-tactics",
   "metadata": {},
   "source": [
    "## 3. 2차원 List의 전체 합 구하기\n",
    "정수로만 이루어진 2차원 list를 전달 받아 해당 list의 모든 요소들의 합을 반환하는\n",
    "all_list_sum 함수를 built-in 함수인 sum() 함수를 사용하지 않고 작성하시오."
   ]
  },
  {
   "cell_type": "code",
   "execution_count": 6,
   "id": "involved-tiger",
   "metadata": {},
   "outputs": [
    {
     "name": "stdout",
     "output_type": "stream",
     "text": [
      "55\n"
     ]
    }
   ],
   "source": [
    "def all_list_sum(lst):\n",
    "    result = 0\n",
    "    for i in lst:\n",
    "        for j in i:\n",
    "            result += j\n",
    "    return result\n",
    "\n",
    "print(all_list_sum([[1], [2,3], [4,5,6], [7,8,9,10]]))"
   ]
  },
  {
   "cell_type": "code",
   "execution_count": null,
   "id": "filled-rolling",
   "metadata": {},
   "outputs": [],
   "source": []
  }
 ],
 "metadata": {
  "kernelspec": {
   "display_name": "Python 3",
   "language": "python",
   "name": "python3"
  },
  "language_info": {
   "codemirror_mode": {
    "name": "ipython",
    "version": 3
   },
   "file_extension": ".py",
   "mimetype": "text/x-python",
   "name": "python",
   "nbconvert_exporter": "python",
   "pygments_lexer": "ipython3",
   "version": "3.8.7"
  }
 },
 "nbformat": 4,
 "nbformat_minor": 5
}
