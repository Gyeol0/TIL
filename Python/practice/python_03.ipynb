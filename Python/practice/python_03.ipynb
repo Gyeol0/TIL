{
 "cells": [
  {
   "cell_type": "markdown",
   "id": "excessive-terminal",
   "metadata": {},
   "source": [
    "## 1. Built-in 함수\n",
    "Python에서 기본으로 사용할 수 있는 built-in 함수를 최소 5가지 이상 작성하시오."
   ]
  },
  {
   "cell_type": "markdown",
   "id": "brief-processing",
   "metadata": {},
   "source": [
    "abs() : 절댓값<br>\n",
    "max() : 최댓값<br>\n",
    "min() : 최솟값<br>\n",
    "int() : 객체를 정수형으로 반환<br>\n",
    "str() : 객체를 문자열로 반환<br>"
   ]
  },
  {
   "cell_type": "markdown",
   "id": "complete-anatomy",
   "metadata": {},
   "source": [
    "## 2. 정중앙 문자\n",
    "문자열을 전달 받아 해당 문자열의 정중앙 문자를 반환하는 get_middle_char 함수를\n",
    "작성하시오. 단, 문자열의 길이가 짝수일 경우에는 정중앙 문자 2개를 반환한다."
   ]
  },
  {
   "cell_type": "code",
   "execution_count": 1,
   "id": "first-latino",
   "metadata": {},
   "outputs": [
    {
     "name": "stdout",
     "output_type": "stream",
     "text": [
      "a\n",
      "di\n"
     ]
    }
   ],
   "source": [
    "def get_middle_char(char):\n",
    "    l = len(char)\n",
    "    if l%2 == 0:\n",
    "        return char[l//2-1 : l//2+1]\n",
    "    return char[l//2]\n",
    "\n",
    "print(get_middle_char('ssafy'))\n",
    "print(get_middle_char('coding'))"
   ]
  },
  {
   "cell_type": "markdown",
   "id": "streaming-spyware",
   "metadata": {},
   "source": [
    "## 3. 위치 인자와 키워드 인자\n",
    "다음과 같이 함수가 선언되어 있을 때, 보기 (1)~(4) 중에서 실행 시 오류가 발생하는\n",
    "코드를 고르시오."
   ]
  },
  {
   "cell_type": "code",
   "execution_count": 2,
   "id": "incredible-america",
   "metadata": {},
   "outputs": [],
   "source": [
    "def ssafy(name, location = '서울'):\n",
    "    print(f'{name}의 지역은 {location}입니다.')"
   ]
  },
  {
   "cell_type": "code",
   "execution_count": 3,
   "id": "alone-albert",
   "metadata": {},
   "outputs": [
    {
     "name": "stdout",
     "output_type": "stream",
     "text": [
      "허준의 지역은 서울입니다.\n"
     ]
    }
   ],
   "source": [
    "ssafy('허준')"
   ]
  },
  {
   "cell_type": "code",
   "execution_count": 4,
   "id": "loose-transport",
   "metadata": {},
   "outputs": [
    {
     "name": "stdout",
     "output_type": "stream",
     "text": [
      "철수의 지역은 대전입니다.\n"
     ]
    }
   ],
   "source": [
    "ssafy(location = '대전', name = '철수')"
   ]
  },
  {
   "cell_type": "code",
   "execution_count": 5,
   "id": "liable-myrtle",
   "metadata": {},
   "outputs": [
    {
     "name": "stdout",
     "output_type": "stream",
     "text": [
      "영희의 지역은 광주입니다.\n"
     ]
    }
   ],
   "source": [
    "ssafy('영희', location = '광주')"
   ]
  },
  {
   "cell_type": "code",
   "execution_count": 6,
   "id": "flexible-fever",
   "metadata": {},
   "outputs": [
    {
     "ename": "SyntaxError",
     "evalue": "positional argument follows keyword argument (<ipython-input-6-95eee60a1cc7>, line 1)",
     "output_type": "error",
     "traceback": [
      "\u001b[1;36m  File \u001b[1;32m\"<ipython-input-6-95eee60a1cc7>\"\u001b[1;36m, line \u001b[1;32m1\u001b[0m\n\u001b[1;33m    ssafy(name = '길동', '구미')\u001b[0m\n\u001b[1;37m                           ^\u001b[0m\n\u001b[1;31mSyntaxError\u001b[0m\u001b[1;31m:\u001b[0m positional argument follows keyword argument\n"
     ]
    }
   ],
   "source": [
    "ssafy(name = '길동', '구미')\n",
    "# ssafy(name = '길도', location = '구미')\n",
    "# ssafy('길동', '구미')로 수정해야함"
   ]
  },
  {
   "cell_type": "markdown",
   "id": "israeli-texas",
   "metadata": {},
   "source": [
    "## 4. 나의 반환값은\n",
    "다음과 같이 함수를 선언하고 호출하였을 때, 변수 result에 저장된 값을 작성하시오."
   ]
  },
  {
   "cell_type": "code",
   "execution_count": 7,
   "id": "threaded-banks",
   "metadata": {},
   "outputs": [
    {
     "name": "stdout",
     "output_type": "stream",
     "text": [
      "10\n"
     ]
    }
   ],
   "source": [
    "def my_func(a,b):\n",
    "    c = a + b\n",
    "    print(c)\n",
    "    \n",
    "result = my_func(3,7)"
   ]
  },
  {
   "cell_type": "code",
   "execution_count": 8,
   "id": "lightweight-matthew",
   "metadata": {},
   "outputs": [
    {
     "name": "stdout",
     "output_type": "stream",
     "text": [
      "None\n"
     ]
    }
   ],
   "source": [
    "print(result) # 선언한 함수의 return 값이 없기 때문이 result에는 None이 저장된다."
   ]
  },
  {
   "cell_type": "markdown",
   "id": "unlikely-subsection",
   "metadata": {},
   "source": [
    "## 5. 가변 인자 리스트\n",
    "가변 인자 리스트를 사용하여, 갯수가 정해지지 않은 여러 정수들을 전달 받아 해당 정\n",
    "수들의 평균 값을 반환하는 my_avg 함수를 작성하시오"
   ]
  },
  {
   "cell_type": "code",
   "execution_count": 9,
   "id": "weird-plaza",
   "metadata": {},
   "outputs": [
    {
     "name": "stdout",
     "output_type": "stream",
     "text": [
      "81.0\n"
     ]
    }
   ],
   "source": [
    "def my_avg(*num):\n",
    "    total = 0\n",
    "    count = 0\n",
    "    for i in num:\n",
    "        total += i\n",
    "        count += 1\n",
    "    result = total / count\n",
    "    return result\n",
    "\n",
    "print(my_avg(77,83,95,80,70))"
   ]
  },
  {
   "cell_type": "code",
   "execution_count": null,
   "id": "durable-rating",
   "metadata": {},
   "outputs": [],
   "source": []
  }
 ],
 "metadata": {
  "kernelspec": {
   "display_name": "Python 3",
   "language": "python",
   "name": "python3"
  },
  "language_info": {
   "codemirror_mode": {
    "name": "ipython",
    "version": 3
   },
   "file_extension": ".py",
   "mimetype": "text/x-python",
   "name": "python",
   "nbconvert_exporter": "python",
   "pygments_lexer": "ipython3",
   "version": "3.8.7"
  }
 },
 "nbformat": 4,
 "nbformat_minor": 5
}
