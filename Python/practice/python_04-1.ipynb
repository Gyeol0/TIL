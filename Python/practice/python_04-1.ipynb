{
 "cells": [
  {
   "cell_type": "markdown",
   "id": "third-operator",
   "metadata": {},
   "source": [
    "## 1. 숫자의 의미\n",
    "정수로 이루어진 list를 전달 받아, 각 정수에 대응되는 아스키 문자를 이어붙인\n",
    "문자열을 반환하는 get_secret_word 함수를 작성하시오. 단, list는 65이상 90이하\n",
    "그리고 97이상 122이하의 정수로만 구성되어 있다."
   ]
  },
  {
   "cell_type": "code",
   "execution_count": 1,
   "id": "clear-borough",
   "metadata": {},
   "outputs": [
    {
     "name": "stdout",
     "output_type": "stream",
     "text": [
      "SsAfY\n"
     ]
    }
   ],
   "source": [
    "def get_secret_word(int_list):\n",
    "    word =''\n",
    "    # 각 숫자에 대응하는 아스키 문자들로 변환하여 이어붙임.\n",
    "    for i in int_list:\n",
    "        word+=chr(i)\n",
    "    return word\n",
    "\n",
    "print(get_secret_word([83,115,65,102,89]))"
   ]
  },
  {
   "cell_type": "markdown",
   "id": "exciting-willow",
   "metadata": {},
   "source": [
    "## 2. 내 이름은 몇일까?\n",
    "문자열을 전달 받아 해당 문자열의 각 문자에 대응되는 아스키 숫자들의 합을 반환하는\n",
    "get_secret_number 함수를 작성하시오. 단, 문자열은 A\\~Z, a\\~z로만 구성되어 있다."
   ]
  },
  {
   "cell_type": "code",
   "execution_count": 2,
   "id": "rubber-township",
   "metadata": {},
   "outputs": [
    {
     "name": "stdout",
     "output_type": "stream",
     "text": [
      "336\n"
     ]
    }
   ],
   "source": [
    "def get_secret_number(ascii_list):\n",
    "    num = 0\n",
    "    # 각 문자에 대응하는 아스키 숫자들로 변환하여 집계\n",
    "    for i in ascii_list:\n",
    "        num += ord(i)\n",
    "    return num\n",
    "\n",
    "print(get_secret_number('tom'))"
   ]
  },
  {
   "cell_type": "markdown",
   "id": "auburn-consideration",
   "metadata": {},
   "source": [
    "## 3. 강한 이름\n",
    "문자열 2개를 전달 받아 두 문자열의 각 문자에 대응되는 아스키 숫자들의 합을 비교하\n",
    "여 더 큰 합을 가진 문자열을 반환하는 get_strong_word 함수를 작성하시오."
   ]
  },
  {
   "cell_type": "code",
   "execution_count": 3,
   "id": "seven-duncan",
   "metadata": {},
   "outputs": [
    {
     "name": "stdout",
     "output_type": "stream",
     "text": [
      "z\n",
      "john\n"
     ]
    }
   ],
   "source": [
    "def get_strong_word(str1, str2):\n",
    "    num1, num2 = 0, 0\n",
    "    # str1과 str2를 대응하는 숫자로 변환하여 집계\n",
    "    for i in str1:\n",
    "        num1 += ord(i)\n",
    "    for i in str2:\n",
    "        num2 += ord(i)\n",
    "        \n",
    "    # num1이 크거나 같으면 str1 반환\n",
    "    if num1 >= num2:\n",
    "        return str1\n",
    "    else:\n",
    "        return str2\n",
    "    \n",
    "print(get_strong_word('z', 'a'))\n",
    "print(get_strong_word('tom', 'john'))"
   ]
  }
 ],
 "metadata": {
  "kernelspec": {
   "display_name": "Python 3",
   "language": "python",
   "name": "python3"
  },
  "language_info": {
   "codemirror_mode": {
    "name": "ipython",
    "version": 3
   },
   "file_extension": ".py",
   "mimetype": "text/x-python",
   "name": "python",
   "nbconvert_exporter": "python",
   "pygments_lexer": "ipython3",
   "version": "3.8.7"
  }
 },
 "nbformat": 4,
 "nbformat_minor": 5
}
