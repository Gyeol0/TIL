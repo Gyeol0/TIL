{
 "cells": [
  {
   "cell_type": "markdown",
   "id": "bright-masters",
   "metadata": {},
   "source": [
    "## 1. 이름 공간(Namespace)\n",
    "Python에서 변수를 찾을 때 접근하는 이름 공간을 순서대로 작성하시오."
   ]
  },
  {
   "cell_type": "markdown",
   "id": "hundred-representative",
   "metadata": {},
   "source": [
    "LEGB<br>\n",
    "* Local scope: 정의된 함수\n",
    "\n",
    "* Enclosed scope: 상위 함수 \n",
    "\n",
    "* Global scope: 함수 밖의 변수 혹은 import된 모듈\n",
    "\n",
    "* Built-in scope: 파이썬안에 내장되어 있는 함수 또는 속성"
   ]
  },
  {
   "cell_type": "markdown",
   "id": "attached-mouse",
   "metadata": {},
   "source": [
    "## 2. 매개변수와 인자, 그리고 반환\n",
    "아래의 보기 (1) ~ (4) 중에서, 옳지 않은 것을 고르시오.<br>\n",
    "\n",
    "(1) 함수는 오직 하나의 객체만 반환할 수 있으므로 'return a, b'와\n",
    "같이 쓸 수 없다.<br>\n",
    "\n",
    "(2) 함수에서 return을 작성하지 않으면 None 값을 반환한다.<br>\n",
    "\n",
    "(3) 함수의 매개변수(parameter)는 함수를 선언할 때 설정한 값이며,\n",
    "전달 인자(argument)는 함수를 호출할 때 넘겨주는 값이다.<br>\n",
    "\n",
    "(4) 가변 인자를 설정할 때는 인자 앞에 * 을 붙이고, 이 때는 함수\n",
    "내에서 tuple로 처리 된다.\n"
   ]
  },
  {
   "cell_type": "markdown",
   "id": "mineral-slovakia",
   "metadata": {},
   "source": [
    "**(1)** 하나의 객체만을 반환하지만, return a,b 사용할 수 있다.<br>\n",
    "튜플 타입으로 반환한다."
   ]
  },
  {
   "cell_type": "markdown",
   "id": "mounted-employer",
   "metadata": {},
   "source": [
    "## 3. 재귀 함수\n",
    "재귀 함수를 사용했을 때 얻을 수 있는 장점과 단점을 반복문과 비교하여 작성하시오."
   ]
  },
  {
   "cell_type": "markdown",
   "id": "indoor-image",
   "metadata": {},
   "source": [
    "장점 : \n",
    "* 코드가 직관적이고 이해하기 쉽다.\n",
    "* 코드가 간결해진다.\n",
    "\n",
    "단점 : \n",
    "* 재구 함수는 내부 깊이 3000번이 되면 함수가 종료된다.\n",
    "* 최대 깊이 이상 사용할 수 있다.\n",
    "* 반복문에 비해 느리다.\n",
    "* 함수를 계속 호출하여 메모리가 쌓인다.\n"
   ]
  },
  {
   "cell_type": "code",
   "execution_count": null,
   "id": "authorized-investing",
   "metadata": {},
   "outputs": [],
   "source": []
  }
 ],
 "metadata": {
  "kernelspec": {
   "display_name": "Python 3",
   "language": "python",
   "name": "python3"
  },
  "language_info": {
   "codemirror_mode": {
    "name": "ipython",
    "version": 3
   },
   "file_extension": ".py",
   "mimetype": "text/x-python",
   "name": "python",
   "nbconvert_exporter": "python",
   "pygments_lexer": "ipython3",
   "version": "3.8.7"
  }
 },
 "nbformat": 4,
 "nbformat_minor": 5
}
