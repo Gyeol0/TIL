{
 "cells": [
  {
   "cell_type": "markdown",
   "id": "biblical-praise",
   "metadata": {},
   "source": [
    "## 1. 평균 점수 구하기\n",
    "key 값으로 과목명, value 값으로 점수를 가지는 dictionary를 전달 받아, 전체 과목의\n",
    "평균 점수를 반환하는 함수 get_dict_avg 함수를 작성하시오."
   ]
  },
  {
   "cell_type": "code",
   "execution_count": 1,
   "id": "curious-wisconsin",
   "metadata": {},
   "outputs": [
    {
     "name": "stdout",
     "output_type": "stream",
     "text": [
      "85.5\n"
     ]
    }
   ],
   "source": [
    "def get_dict_avg(score_dict):\n",
    "    total = 0\n",
    "    count = 0\n",
    "    for subject in score_dict.keys():\n",
    "        total += score_dict.get(subject)\n",
    "        count += 1\n",
    "    return total / count\n",
    "print(get_dict_avg({\n",
    "    'python': 80,\n",
    "    'algorithm': 90,\n",
    "    'django': 89,\n",
    "    'web':83\n",
    "}))"
   ]
  },
  {
   "cell_type": "markdown",
   "id": "entire-pound",
   "metadata": {},
   "source": [
    "## 2. 혈액형 분류하기\n",
    "여러 사람의 혈액형(A, B, AB, O)에 대한 정보가 담긴 list를 전달 받아, key는 혈액형의\n",
    "종류, value는 사람 수인 dictionary를 반환하는 count_blood 함수를 작성하시오."
   ]
  },
  {
   "cell_type": "code",
   "execution_count": 12,
   "id": "considerable-think",
   "metadata": {},
   "outputs": [
    {
     "name": "stdout",
     "output_type": "stream",
     "text": [
      "{'A': 3, 'B': 3, 'O': 3, 'AB': 3}\n"
     ]
    }
   ],
   "source": [
    "def count_blood(blood_list):\n",
    "    blood_dict = {}\n",
    "    for blood in blood_list:\n",
    "        if blood in blood_dict:\n",
    "            blood_dict[blood] +=1\n",
    "        else:\n",
    "            blood_dict[blood] = 1\n",
    "    return blood_dict\n",
    "\n",
    "print(count_blood([\n",
    "    'A','B','A','O','AB','AB','O','A','B','O','B','AB'\n",
    "]))"
   ]
  }
 ],
 "metadata": {
  "kernelspec": {
   "display_name": "Python 3",
   "language": "python",
   "name": "python3"
  },
  "language_info": {
   "codemirror_mode": {
    "name": "ipython",
    "version": 3
   },
   "file_extension": ".py",
   "mimetype": "text/x-python",
   "name": "python",
   "nbconvert_exporter": "python",
   "pygments_lexer": "ipython3",
   "version": "3.8.7"
  }
 },
 "nbformat": 4,
 "nbformat_minor": 5
}
