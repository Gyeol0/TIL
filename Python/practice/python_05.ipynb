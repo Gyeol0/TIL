{
 "cells": [
  {
   "cell_type": "markdown",
   "id": "talented-equivalent",
   "metadata": {},
   "source": [
    "## 1. 모음은 몇 개나 있을까?\n",
    "문자열을 전달 받아 해당 문자열의 모음 갯수를 반환하는 count_vowels 함수를\n",
    "작성하시오. 단, .count() 메서드를 활용하여 작성하시오."
   ]
  },
  {
   "cell_type": "code",
   "execution_count": 1,
   "id": "acquired-ranking",
   "metadata": {},
   "outputs": [
    {
     "name": "stdout",
     "output_type": "stream",
     "text": [
      "2\n",
      "3\n"
     ]
    }
   ],
   "source": [
    "def count_vowels(word):\n",
    "    count = 0\n",
    "    vowel = ['a', 'e', 'i', 'o', 'u']\n",
    "    for i in vowel:\n",
    "        count += word.count(i)\n",
    "    return count\n",
    "\n",
    "print(count_vowels('apple'))\n",
    "print(count_vowels('banana'))"
   ]
  },
  {
   "cell_type": "markdown",
   "id": "substantial-elevation",
   "metadata": {},
   "source": [
    "## 2. 문자열 조작\n",
    "다음 중, 문자열(string)을 조작하는 방법으로 옳지 않은 것을 고르시오.\n",
    "\n",
    "(1) .find(x)는 x의 첫번째 위치를 반환한다. 없으면 -1을 반환한다.\n",
    "\n",
    "(2) .split([chars])은 특정 문자를 지정하면 문자열을 특정 문자를\n",
    "기준으로 나누어 list로 반환한다. 특정 문자를 지정하지 않으면\n",
    "공백을 기준으로 나눈다.\n",
    "\n",
    "(3) .replace(old, new[, count])는 바꿀 대상 문자를 새로운 문자로\n",
    "바꿔서 반환한다.\n",
    "\n",
    "(4) .strip([chars])은 특정 문자를 지정하면, 양쪽에서 해당 문자를\n",
    "찾아 제거한다. 특정 문자를 지정하지 않으면 오류가 발생한다."
   ]
  },
  {
   "cell_type": "markdown",
   "id": "gentle-recording",
   "metadata": {},
   "source": [
    "**(4) .strip()은 특정문자를 지정하지 않으면 양쪽 공백을 제거한다.**"
   ]
  },
  {
   "cell_type": "markdown",
   "id": "cheap-extent",
   "metadata": {},
   "source": [
    "## 3. 정사각형만 만들기\n",
    "각각 너비와 높이의 값으로 이루어진 2개의 list를 전달 받아, 각각의 값들을 조합하여\n",
    "만들 수 있는 정사각형만의 넓이를 담은 list를 반환하는 only_square_area 함수를\n",
    "작성하시오."
   ]
  },
  {
   "cell_type": "code",
   "execution_count": 7,
   "id": "available-triangle",
   "metadata": {},
   "outputs": [
    {
     "name": "stdout",
     "output_type": "stream",
     "text": [
      "[1024, 3025]\n"
     ]
    }
   ],
   "source": [
    "def only_square_area(width_list, height_list):\n",
    "    result = []\n",
    "    width_set = set(width_list)\n",
    "    height_set = set(height_list)\n",
    "    for width in width_set:\n",
    "        if width in height_set:\n",
    "            result.append(width**2)\n",
    "    return result\n",
    "print(only_square_area([32,55,63], [13,32,40,55]))"
   ]
  }
 ],
 "metadata": {
  "kernelspec": {
   "display_name": "Python 3",
   "language": "python",
   "name": "python3"
  },
  "language_info": {
   "codemirror_mode": {
    "name": "ipython",
    "version": 3
   },
   "file_extension": ".py",
   "mimetype": "text/x-python",
   "name": "python",
   "nbconvert_exporter": "python",
   "pygments_lexer": "ipython3",
   "version": "3.8.7"
  }
 },
 "nbformat": 4,
 "nbformat_minor": 5
}
