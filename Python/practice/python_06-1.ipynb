{
 "cells": [
  {
   "cell_type": "markdown",
   "id": "composite-devil",
   "metadata": {},
   "source": [
    "## 1. 무엇이 중복일까\n",
    "문자열을 전달 받아 해당 문자열에서 중복해서 나타난 문자들을 담은 list를 반환하는\n",
    "duplicated_letters 함수를 작성하시오."
   ]
  },
  {
   "cell_type": "code",
   "execution_count": 1,
   "id": "chicken-explorer",
   "metadata": {},
   "outputs": [],
   "source": [
    "def duplicated_letters_1(word):\n",
    "    result = {}\n",
    "    answer = []\n",
    "    for i in word:\n",
    "        if i in result:\n",
    "            result[i] += 1\n",
    "        else:\n",
    "            result[i] = 1\n",
    "    for i, j in result.items():\n",
    "        if j > 1:\n",
    "            answer.append(i)\n",
    "    return answer"
   ]
  },
  {
   "cell_type": "code",
   "execution_count": 37,
   "id": "executive-dinner",
   "metadata": {},
   "outputs": [],
   "source": [
    "def duplicated_letters(word):\n",
    "    result = []\n",
    "    while word:\n",
    "        # word의 인덱스 0 알파벳을 인덱스 1부터 find\n",
    "        # 있으면 추가\n",
    "        if word.find(word[0], 1) > 0:\n",
    "            result.append(word[0])\n",
    "        # 첫 번째 알파벳 전체 삭제\n",
    "        word = word.replace(word[0], '')\n",
    "    return result"
   ]
  },
  {
   "cell_type": "code",
   "execution_count": 38,
   "id": "noble-robertson",
   "metadata": {},
   "outputs": [
    {
     "name": "stdout",
     "output_type": "stream",
     "text": [
      "['p']\n",
      "['a', 'n']\n"
     ]
    }
   ],
   "source": [
    "print(duplicated_letters('apple'))\n",
    "print(duplicated_letters('banana'))"
   ]
  },
  {
   "cell_type": "markdown",
   "id": "handy-insider",
   "metadata": {},
   "source": [
    "## 2. 소대소대\n",
    "문자열을 전달 받아 해당 문자열을 소문자와 대문자가 번갈아 나타나도록 변환하여\n",
    "반환하는 low_and_up 함수를 작성하시오. 이때, 전달 받는 문자열은 알파벳으로만\n",
    "구성된다."
   ]
  },
  {
   "cell_type": "code",
   "execution_count": 3,
   "id": "graduate-marble",
   "metadata": {},
   "outputs": [],
   "source": [
    "def low_and_up(word):\n",
    "    result = ''\n",
    "    # 짝수 인덱스는 소문자, 홀수 인덱스는 대문자 변환\n",
    "    for i in range(len(word)):\n",
    "        if i%2 == 0:\n",
    "            result += word[i].lower()\n",
    "        else:\n",
    "            result += word[i].upper()\n",
    "    return result"
   ]
  },
  {
   "cell_type": "code",
   "execution_count": 4,
   "id": "harmful-integer",
   "metadata": {},
   "outputs": [
    {
     "name": "stdout",
     "output_type": "stream",
     "text": [
      "aPpLe\n",
      "bAnAnA\n"
     ]
    }
   ],
   "source": [
    "print(low_and_up('apple'))\n",
    "print(low_and_up('banana'))"
   ]
  },
  {
   "cell_type": "markdown",
   "id": "special-productivity",
   "metadata": {},
   "source": [
    "## 3. 숫자의 의미\n",
    "정수 0부터 9까지로 이루어진 list를 전달 받아, 연속적으로 나타나는 숫자는 하나만 남\n",
    "기고 제거한 list를 반환하는 lonely 함수를 작성하시오. 이때, 제거된 후 남은 수들이 담\n",
    "긴 list의 요소들은 기존의 순서를 유지해야 한다."
   ]
  },
  {
   "cell_type": "code",
   "execution_count": 43,
   "id": "mexican-validity",
   "metadata": {},
   "outputs": [],
   "source": [
    "def lonely(num_list):\n",
    "    result = []\n",
    "    # 비교값 초기 설정\n",
    "    k = -1\n",
    "    for i in num_list:\n",
    "        # 숫자가 달라지면 추가\n",
    "        if k != i:\n",
    "            result.append(i)\n",
    "            k = i\n",
    "    return result"
   ]
  },
  {
   "cell_type": "code",
   "execution_count": 44,
   "id": "weekly-batman",
   "metadata": {},
   "outputs": [
    {
     "name": "stdout",
     "output_type": "stream",
     "text": [
      "[1, 3, 0, 1]\n",
      "[4, 3]\n"
     ]
    }
   ],
   "source": [
    "print(lonely([1, 1, 3, 3, 0, 1, 1]))\n",
    "print(lonely([4, 4, 4, 3, 3]))"
   ]
  },
  {
   "cell_type": "code",
   "execution_count": null,
   "id": "clean-cylinder",
   "metadata": {},
   "outputs": [],
   "source": []
  }
 ],
 "metadata": {
  "kernelspec": {
   "display_name": "Python 3",
   "language": "python",
   "name": "python3"
  },
  "language_info": {
   "codemirror_mode": {
    "name": "ipython",
    "version": 3
   },
   "file_extension": ".py",
   "mimetype": "text/x-python",
   "name": "python",
   "nbconvert_exporter": "python",
   "pygments_lexer": "ipython3",
   "version": "3.8.7"
  }
 },
 "nbformat": 4,
 "nbformat_minor": 5
}
