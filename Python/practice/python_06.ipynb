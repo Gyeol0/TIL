{
 "cells": [
  {
   "cell_type": "markdown",
   "id": "widespread-cross",
   "metadata": {},
   "source": [
    "## 1. Built-in 함수와 메서드\n",
    "sorted()와 .sort()의 차이점을 코드의 실행 결과를 활용하여 설명하시오."
   ]
  },
  {
   "cell_type": "code",
   "execution_count": 1,
   "id": "novel-communications",
   "metadata": {},
   "outputs": [
    {
     "name": "stdout",
     "output_type": "stream",
     "text": [
      "[1, 2, 3, 4, 5, 6]\n",
      "[4, 3, 6, 1, 5, 2]\n",
      "[1, 2, 3, 4, 5, 6]\n"
     ]
    }
   ],
   "source": [
    "a = [4, 3, 6, 1, 5, 2]\n",
    "print(sorted(a))\n",
    "print(a)\n",
    "a.sort()\n",
    "print(a)"
   ]
  },
  {
   "cell_type": "markdown",
   "id": "varied-cambodia",
   "metadata": {},
   "source": [
    "**.sort()**는 원본 list를 변형시키고, None을 리턴한다.<br>\n",
    "**sorted()**는 원본 list를 변형시키지 않고, 정렬된 리스트를 리턴한다."
   ]
  },
  {
   "cell_type": "markdown",
   "id": "aggregate-speech",
   "metadata": {},
   "source": [
    "## 2. .extend()와 .append()\n",
    ".extend()와 .append()의 차이점을 코드의 실행 결과를 활용하여 설명하시오."
   ]
  },
  {
   "cell_type": "code",
   "execution_count": 2,
   "id": "authentic-vampire",
   "metadata": {},
   "outputs": [
    {
     "name": "stdout",
     "output_type": "stream",
     "text": [
      "[1, 2, 3, 4, 5]\n",
      "[1, 2, 3, 4, 5, 6]\n"
     ]
    }
   ],
   "source": [
    "a = [1, 2, 3]\n",
    "a.extend([4,5])\n",
    "print(a)\n",
    "a.append(6)\n",
    "print(a)"
   ]
  },
  {
   "cell_type": "markdown",
   "id": "billion-publisher",
   "metadata": {},
   "source": [
    "**.extend()**는 리스트에 iterable 값을 붙인다.<br>\n",
    "**.append()**는 리스트에 값을 추가한다.<br>\n",
    "둘 다 원본 list를 변형시키고, None을 리턴한다."
   ]
  },
  {
   "cell_type": "markdown",
   "id": "floral-hurricane",
   "metadata": {},
   "source": [
    "## 3. 복사가 잘 된 건가?\n",
    "아래의 코드를 실행 하였을 때, 변수 a와 b에 담긴 list의 요소가 같은지 혹은 다른지\n",
    "여부를 판단하고 그 이유를 작성하시오."
   ]
  },
  {
   "cell_type": "code",
   "execution_count": 3,
   "id": "aboriginal-surrey",
   "metadata": {},
   "outputs": [
    {
     "name": "stdout",
     "output_type": "stream",
     "text": [
      "[1, 2, 5, 4, 5]\n",
      "[1, 2, 5, 4, 5]\n"
     ]
    }
   ],
   "source": [
    "a = [1, 2, 3, 4, 5]\n",
    "b = a\n",
    "a[2] = 5\n",
    "print(a)\n",
    "print(b)"
   ]
  },
  {
   "cell_type": "markdown",
   "id": "higher-headset",
   "metadata": {},
   "source": [
    "주소를 복사하여 서로 같은 주소를 참조하고 있기 때문에 같은 값을 반환한다."
   ]
  },
  {
   "cell_type": "code",
   "execution_count": 5,
   "id": "corporate-dating",
   "metadata": {},
   "outputs": [
    {
     "name": "stdout",
     "output_type": "stream",
     "text": [
      "[1, 2, 5, 4, 5]\n",
      "[1, 2, 3, 4, 5]\n"
     ]
    }
   ],
   "source": [
    "a = [1, 2, 3, 4, 5]\n",
    "b = list(a)\n",
    "# b = a[:]\n",
    "a[2] = 5\n",
    "print(a)\n",
    "print(b)"
   ]
  },
  {
   "cell_type": "code",
   "execution_count": null,
   "id": "alternate-nothing",
   "metadata": {},
   "outputs": [],
   "source": []
  },
  {
   "cell_type": "markdown",
   "id": "middle-packaging",
   "metadata": {},
   "source": [
    "서로 다른 값을 갖기 위해서는 복사(얕은 복사)를 해야하고, 2차원 배열부터는 깊은 복사(deep copy)가 필요하다."
   ]
  },
  {
   "cell_type": "code",
   "execution_count": null,
   "id": "pleasant-probability",
   "metadata": {},
   "outputs": [],
   "source": []
  }
 ],
 "metadata": {
  "kernelspec": {
   "display_name": "Python 3",
   "language": "python",
   "name": "python3"
  },
  "language_info": {
   "codemirror_mode": {
    "name": "ipython",
    "version": 3
   },
   "file_extension": ".py",
   "mimetype": "text/x-python",
   "name": "python",
   "nbconvert_exporter": "python",
   "pygments_lexer": "ipython3",
   "version": "3.8.7"
  }
 },
 "nbformat": 4,
 "nbformat_minor": 5
}
