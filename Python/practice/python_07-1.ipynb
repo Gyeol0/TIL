{
 "cells": [
  {
   "cell_type": "markdown",
   "id": "fleet-craft",
   "metadata": {},
   "source": [
    "## 1. pip\n",
    "아래 명령어는 (1) 무엇을 위한 명령인지 (2) 실행은 어디에서 해야하는지 작성 하시오.\n"
   ]
  },
  {
   "cell_type": "markdown",
   "id": "prime-guess",
   "metadata": {},
   "source": [
    "(1) faker라는 모듈을 설치하기 위한 명령<br>\n",
    "(2) 터미널에서 실행해야 한다."
   ]
  },
  {
   "cell_type": "markdown",
   "id": "essential-problem",
   "metadata": {},
   "source": [
    "## 2. Basic Usages\n",
    "(https://github.com/joke2k/faker#basic-usage)\n",
    "\n",
    "Faker는 다양한 메서드를 통해 임의의 결과값을 반환해준다.<br>\n",
    "임의의 영문 이름을 반환하는 아래 코드에서 라인별 의미를 주석을 참고하여 작성하시오."
   ]
  },
  {
   "cell_type": "code",
   "execution_count": 1,
   "id": "split-bulletin",
   "metadata": {},
   "outputs": [
    {
     "data": {
      "text/plain": [
       "'Taylor Alvarez'"
      ]
     },
     "execution_count": 1,
     "metadata": {},
     "output_type": "execute_result"
    }
   ],
   "source": [
    "from faker import Faker\n",
    "fake = Faker()\n",
    "fake.name()"
   ]
  },
  {
   "cell_type": "markdown",
   "id": "steady-associate",
   "metadata": {},
   "source": [
    "(1) faker 모듈의 Faker 클래스(메소드)를 불러오는(액세스) 코드<br>\n",
    "(2) Faker는 클래스, fake는 클래스를 할당하는 인스턴스\n",
    "(3) name()은 인스턴스 fake의 메소드 접근"
   ]
  },
  {
   "cell_type": "markdown",
   "id": "gothic-entity",
   "metadata": {},
   "source": [
    "## 3. Localization\n",
    "(https://github.com/joke2k/faker#localization)\n",
    "\n",
    "Faker는 다양한 언어의 Locale을 지원한다.\n",
    "1. 인자 없이 호출 시에는 영문이 기본 설정이다. (en_US)\n",
    "2. Locale 정보를 포함하여 호출 시에는 해당 언어 설정을 따른다.\n",
    "\n",
    "직접 해당하는 기능을 구현한다고 하였을 때, 빈칸 (a), (b), (c)에 들어갈 코드로 적절한\n",
    "것을 작성하시오. (힌트: 생성자 메서드와 함수의 개념)\n"
   ]
  },
  {
   "cell_type": "code",
   "execution_count": 2,
   "id": "simple-charleston",
   "metadata": {},
   "outputs": [
    {
     "data": {
      "text/plain": [
       "'Tony Waller'"
      ]
     },
     "execution_count": 2,
     "metadata": {},
     "output_type": "execute_result"
    }
   ],
   "source": [
    "fake = Faker()\n",
    "fake.name()"
   ]
  },
  {
   "cell_type": "code",
   "execution_count": 3,
   "id": "attended-valuation",
   "metadata": {},
   "outputs": [
    {
     "data": {
      "text/plain": [
       "'이민재'"
      ]
     },
     "execution_count": 3,
     "metadata": {},
     "output_type": "execute_result"
    }
   ],
   "source": [
    "fake_ko = Faker('ko_KR')\n",
    "fake_ko.name()"
   ]
  },
  {
   "cell_type": "code",
   "execution_count": 5,
   "id": "accessory-hospital",
   "metadata": {},
   "outputs": [],
   "source": [
    "class Faker():\n",
    "    def __init__(self, lacle = 'en_US'):\n",
    "        pass"
   ]
  },
  {
   "cell_type": "markdown",
   "id": "freelance-swiss",
   "metadata": {},
   "source": [
    "## 4. Seeding the Generator\n",
    "(https://github.com/joke2k/faker#seeding-the-generator)\n",
    "\n",
    "컴퓨터 프로그래밍에서 임의의 값을 반환하는 경우(난수 생성 등) 시드라는 개념이 있다.<br>\n",
    "시드를 설정하게 되면 동일한 순서로 난수를 발생시킬 수 있어 일반적으로 디버깅을 위하여 활용 된다.<br>"
   ]
  },
  {
   "cell_type": "code",
   "execution_count": 4,
   "id": "chronic-falls",
   "metadata": {},
   "outputs": [
    {
     "name": "stdout",
     "output_type": "stream",
     "text": [
      "0.05280875986250877\n",
      "0.34608544007129893\n",
      "0.8170477907294282\n",
      "0.8170477907294282\n"
     ]
    }
   ],
   "source": [
    "import random\n",
    "\n",
    "print(random.random())\n",
    "print(random.random())\n",
    "\n",
    "random.seed(7777)\n",
    "print(random.random())\n",
    "\n",
    "random.seed(7777)\n",
    "print(random.random())"
   ]
  },
  {
   "cell_type": "code",
   "execution_count": 5,
   "id": "finite-proof",
   "metadata": {},
   "outputs": [
    {
     "name": "stdout",
     "output_type": "stream",
     "text": [
      "이도윤\n",
      "이지후\n"
     ]
    }
   ],
   "source": [
    "fake = Faker('ko_KR')\n",
    "Faker.seed(4321)\n",
    "print(fake.name())\n",
    "\n",
    "fake2 = Faker('ko_KR')\n",
    "print(fake2.name())\n"
   ]
  },
  {
   "cell_type": "markdown",
   "id": "alien-captain",
   "metadata": {},
   "source": [
    "seed() 는 클래스 메서드"
   ]
  },
  {
   "cell_type": "markdown",
   "id": "vietnamese-protocol",
   "metadata": {},
   "source": [
    "아래의 코드를 실행 했을 때, #1과 #2에서 출력되는 결과를 각각 작성하고,\n",
    "seed_instance()는 어떤 종류의 메서드인지 작성하시오"
   ]
  },
  {
   "cell_type": "code",
   "execution_count": 6,
   "id": "dressed-journal",
   "metadata": {},
   "outputs": [
    {
     "name": "stdout",
     "output_type": "stream",
     "text": [
      "이도윤\n",
      "김광수\n"
     ]
    }
   ],
   "source": [
    "fake = Faker('ko_KR')\n",
    "fake.seed_instance(4321)\n",
    "print(fake.name())\n",
    "\n",
    "fake2 = Faker('ko_KR')\n",
    "print(fake2.name())\n"
   ]
  },
  {
   "cell_type": "markdown",
   "id": "fresh-manchester",
   "metadata": {},
   "source": [
    "seed_instance()는 self를 반환하여 인스턴스 메서드로 실행한 인스턴스만 변환<br>\n",
    "seed()는 클래스 메서드로 클래스 자체에서 실행, 인스턴스가 고정(하나로 통일 아님)"
   ]
  },
  {
   "cell_type": "code",
   "execution_count": null,
   "id": "skilled-queen",
   "metadata": {},
   "outputs": [],
   "source": []
  }
 ],
 "metadata": {
  "kernelspec": {
   "display_name": "Python 3",
   "language": "python",
   "name": "python3"
  },
  "language_info": {
   "codemirror_mode": {
    "name": "ipython",
    "version": 3
   },
   "file_extension": ".py",
   "mimetype": "text/x-python",
   "name": "python",
   "nbconvert_exporter": "python",
   "pygments_lexer": "ipython3",
   "version": "3.8.7"
  }
 },
 "nbformat": 4,
 "nbformat_minor": 5
}
